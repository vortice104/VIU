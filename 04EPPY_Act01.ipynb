{
 "cells": [
  {
   "cell_type": "markdown",
   "id": "intellectual-humor",
   "metadata": {},
   "source": [
    "<img src=\"../img/viu_logo.png\" width=\"200\">\n",
    "\n",
    "## 04EPPY - Actividad 1\n",
    "\n",
    "25% de la Nota Final\n",
    "\n",
    "### Fecha Entrega\n",
    "- Convocatoria 1 - 10/03/2022\n",
    "- Convocatoria 2 - 17/03/2022\n",
    "\n",
    "### Instrucciones:\n",
    "- Crear un notebook de Python3 que servirá como entrega de la actividad.\n",
    "- Separar bien los apartados propuestos con celdas Markdown.\n",
    "- Mantener una estructura limpia, comentando código y secuenciando los apartados con el código correspondiente que resuelva la actividad.\n",
    "- Como criterio de evaluación se tendrá en cuenta el resultado, la consecución del mismo, estilo, comentarios y adecuación.\n",
    "- No está permitido compartir los resultados ni el código en ninguno de los foros. \n",
    "\n",
    "### Entrega:\n",
    "- Un solo documento en formato notebook: .ipynb\n",
    "- Para hacer la entrega hay que hacer un tag al repositorio en una fecha anterior a la fecha de entrega de la actividad, y pegar el enlace al tag del repositorio en la actividad de blackboard."
   ]
  },
  {
   "cell_type": "markdown",
   "id": "southwest-learning",
   "metadata": {},
   "source": [
    "### A1 - Ficheros - 15%\n",
    "- Descarga datos mediante la siguiente url https://raw.githubusercontent.com/grammakov/USA-cities-and-states/master/us_cities_states_counties.csv\n",
    "- Imprimir el número de ciudades que tiene el estado de Florida\n",
    "- Resolver el problema de dos maneras distintas, una usando pandas y otra sin usar ninguna librería (solo Python standard)"
   ]
  },
  {
   "cell_type": "code",
   "execution_count": 1,
   "id": "486a095f",
   "metadata": {},
   "outputs": [
    {
     "ename": "OSError",
     "evalue": "Cannot save file into a non-existent directory: 'D:DATA\\villami\\Desktop\\Documents\\Python\\Contents\\04_EPPY'",
     "output_type": "error",
     "traceback": [
      "\u001b[1;31m---------------------------------------------------------------------------\u001b[0m",
      "\u001b[1;31mOSError\u001b[0m                                   Traceback (most recent call last)",
      "\u001b[1;32md:\\DATA\\villami\\Desktop\\Documents\\Python\\Contents\\04_EPPY\\04EPPY_Act01.ipynb Cell 3\u001b[0m in \u001b[0;36m<cell line: 10>\u001b[1;34m()\u001b[0m\n\u001b[0;32m      <a href='vscode-notebook-cell:/d%3A/DATA/villami/Desktop/Documents/Python/Contents/04_EPPY/04EPPY_Act01.ipynb#ch0000011?line=6'>7</a>\u001b[0m loaded \u001b[39m=\u001b[39m pd\u001b[39m.\u001b[39mread_csv(url, sep \u001b[39m=\u001b[39m \u001b[39m'\u001b[39m\u001b[39m|\u001b[39m\u001b[39m'\u001b[39m)\n\u001b[0;32m      <a href='vscode-notebook-cell:/d%3A/DATA/villami/Desktop/Documents/Python/Contents/04_EPPY/04EPPY_Act01.ipynb#ch0000011?line=8'>9</a>\u001b[0m ruta \u001b[39m=\u001b[39m os\u001b[39m.\u001b[39mpath\u001b[39m.\u001b[39mjoin(\u001b[39m\"\u001b[39m\u001b[39mD:\u001b[39m\u001b[39m\"\u001b[39m, \u001b[39m\"\u001b[39m\u001b[39mDATA\u001b[39m\u001b[39m\"\u001b[39m, \u001b[39m\"\u001b[39m\u001b[39mvillami\u001b[39m\u001b[39m\"\u001b[39m, \u001b[39m\"\u001b[39m\u001b[39mDesktop\u001b[39m\u001b[39m\"\u001b[39m, \u001b[39m\"\u001b[39m\u001b[39mDocuments\u001b[39m\u001b[39m\"\u001b[39m, \u001b[39m\"\u001b[39m\u001b[39mPython\u001b[39m\u001b[39m\"\u001b[39m, \u001b[39m\"\u001b[39m\u001b[39mContents\u001b[39m\u001b[39m\"\u001b[39m, \u001b[39m\"\u001b[39m\u001b[39m04_EPPY\u001b[39m\u001b[39m\"\u001b[39m, \u001b[39m\"\u001b[39m\u001b[39mus_cities_states_counties.csv\u001b[39m\u001b[39m\"\u001b[39m)\n\u001b[1;32m---> <a href='vscode-notebook-cell:/d%3A/DATA/villami/Desktop/Documents/Python/Contents/04_EPPY/04EPPY_Act01.ipynb#ch0000011?line=9'>10</a>\u001b[0m loaded\u001b[39m.\u001b[39;49mto_csv(ruta, sep\u001b[39m=\u001b[39;49m\u001b[39m\"\u001b[39;49m\u001b[39m|\u001b[39;49m\u001b[39m\"\u001b[39;49m)\n\u001b[0;32m     <a href='vscode-notebook-cell:/d%3A/DATA/villami/Desktop/Documents/Python/Contents/04_EPPY/04EPPY_Act01.ipynb#ch0000011?line=11'>12</a>\u001b[0m loaded_pd \u001b[39m=\u001b[39m pd\u001b[39m.\u001b[39mDataFrame(loaded)\n\u001b[0;32m     <a href='vscode-notebook-cell:/d%3A/DATA/villami/Desktop/Documents/Python/Contents/04_EPPY/04EPPY_Act01.ipynb#ch0000011?line=12'>13</a>\u001b[0m florida_cities \u001b[39m=\u001b[39m loaded_pd[loaded_pd[\u001b[39m'\u001b[39m\u001b[39mState full\u001b[39m\u001b[39m'\u001b[39m] \u001b[39m==\u001b[39m\u001b[39m'\u001b[39m\u001b[39mFlorida\u001b[39m\u001b[39m'\u001b[39m]\u001b[39m.\u001b[39mcopy()\n",
      "File \u001b[1;32mc:\\ProgramData\\Anaconda3\\envs\\EP04\\lib\\site-packages\\pandas\\core\\generic.py:3551\u001b[0m, in \u001b[0;36mNDFrame.to_csv\u001b[1;34m(self, path_or_buf, sep, na_rep, float_format, columns, header, index, index_label, mode, encoding, compression, quoting, quotechar, line_terminator, chunksize, date_format, doublequote, escapechar, decimal, errors, storage_options)\u001b[0m\n\u001b[0;32m   3540\u001b[0m df \u001b[39m=\u001b[39m \u001b[39mself\u001b[39m \u001b[39mif\u001b[39;00m \u001b[39misinstance\u001b[39m(\u001b[39mself\u001b[39m, ABCDataFrame) \u001b[39melse\u001b[39;00m \u001b[39mself\u001b[39m\u001b[39m.\u001b[39mto_frame()\n\u001b[0;32m   3542\u001b[0m formatter \u001b[39m=\u001b[39m DataFrameFormatter(\n\u001b[0;32m   3543\u001b[0m     frame\u001b[39m=\u001b[39mdf,\n\u001b[0;32m   3544\u001b[0m     header\u001b[39m=\u001b[39mheader,\n\u001b[1;32m   (...)\u001b[0m\n\u001b[0;32m   3548\u001b[0m     decimal\u001b[39m=\u001b[39mdecimal,\n\u001b[0;32m   3549\u001b[0m )\n\u001b[1;32m-> 3551\u001b[0m \u001b[39mreturn\u001b[39;00m DataFrameRenderer(formatter)\u001b[39m.\u001b[39;49mto_csv(\n\u001b[0;32m   3552\u001b[0m     path_or_buf,\n\u001b[0;32m   3553\u001b[0m     line_terminator\u001b[39m=\u001b[39;49mline_terminator,\n\u001b[0;32m   3554\u001b[0m     sep\u001b[39m=\u001b[39;49msep,\n\u001b[0;32m   3555\u001b[0m     encoding\u001b[39m=\u001b[39;49mencoding,\n\u001b[0;32m   3556\u001b[0m     errors\u001b[39m=\u001b[39;49merrors,\n\u001b[0;32m   3557\u001b[0m     compression\u001b[39m=\u001b[39;49mcompression,\n\u001b[0;32m   3558\u001b[0m     quoting\u001b[39m=\u001b[39;49mquoting,\n\u001b[0;32m   3559\u001b[0m     columns\u001b[39m=\u001b[39;49mcolumns,\n\u001b[0;32m   3560\u001b[0m     index_label\u001b[39m=\u001b[39;49mindex_label,\n\u001b[0;32m   3561\u001b[0m     mode\u001b[39m=\u001b[39;49mmode,\n\u001b[0;32m   3562\u001b[0m     chunksize\u001b[39m=\u001b[39;49mchunksize,\n\u001b[0;32m   3563\u001b[0m     quotechar\u001b[39m=\u001b[39;49mquotechar,\n\u001b[0;32m   3564\u001b[0m     date_format\u001b[39m=\u001b[39;49mdate_format,\n\u001b[0;32m   3565\u001b[0m     doublequote\u001b[39m=\u001b[39;49mdoublequote,\n\u001b[0;32m   3566\u001b[0m     escapechar\u001b[39m=\u001b[39;49mescapechar,\n\u001b[0;32m   3567\u001b[0m     storage_options\u001b[39m=\u001b[39;49mstorage_options,\n\u001b[0;32m   3568\u001b[0m )\n",
      "File \u001b[1;32mc:\\ProgramData\\Anaconda3\\envs\\EP04\\lib\\site-packages\\pandas\\io\\formats\\format.py:1180\u001b[0m, in \u001b[0;36mDataFrameRenderer.to_csv\u001b[1;34m(self, path_or_buf, encoding, sep, columns, index_label, mode, compression, quoting, quotechar, line_terminator, chunksize, date_format, doublequote, escapechar, errors, storage_options)\u001b[0m\n\u001b[0;32m   1159\u001b[0m     created_buffer \u001b[39m=\u001b[39m \u001b[39mFalse\u001b[39;00m\n\u001b[0;32m   1161\u001b[0m csv_formatter \u001b[39m=\u001b[39m CSVFormatter(\n\u001b[0;32m   1162\u001b[0m     path_or_buf\u001b[39m=\u001b[39mpath_or_buf,\n\u001b[0;32m   1163\u001b[0m     line_terminator\u001b[39m=\u001b[39mline_terminator,\n\u001b[1;32m   (...)\u001b[0m\n\u001b[0;32m   1178\u001b[0m     formatter\u001b[39m=\u001b[39m\u001b[39mself\u001b[39m\u001b[39m.\u001b[39mfmt,\n\u001b[0;32m   1179\u001b[0m )\n\u001b[1;32m-> 1180\u001b[0m csv_formatter\u001b[39m.\u001b[39;49msave()\n\u001b[0;32m   1182\u001b[0m \u001b[39mif\u001b[39;00m created_buffer:\n\u001b[0;32m   1183\u001b[0m     \u001b[39massert\u001b[39;00m \u001b[39misinstance\u001b[39m(path_or_buf, StringIO)\n",
      "File \u001b[1;32mc:\\ProgramData\\Anaconda3\\envs\\EP04\\lib\\site-packages\\pandas\\io\\formats\\csvs.py:241\u001b[0m, in \u001b[0;36mCSVFormatter.save\u001b[1;34m(self)\u001b[0m\n\u001b[0;32m    237\u001b[0m \u001b[39m\"\"\"\u001b[39;00m\n\u001b[0;32m    238\u001b[0m \u001b[39mCreate the writer & save.\u001b[39;00m\n\u001b[0;32m    239\u001b[0m \u001b[39m\"\"\"\u001b[39;00m\n\u001b[0;32m    240\u001b[0m \u001b[39m# apply compression and byte/text conversion\u001b[39;00m\n\u001b[1;32m--> 241\u001b[0m \u001b[39mwith\u001b[39;00m get_handle(\n\u001b[0;32m    242\u001b[0m     \u001b[39mself\u001b[39;49m\u001b[39m.\u001b[39;49mfilepath_or_buffer,\n\u001b[0;32m    243\u001b[0m     \u001b[39mself\u001b[39;49m\u001b[39m.\u001b[39;49mmode,\n\u001b[0;32m    244\u001b[0m     encoding\u001b[39m=\u001b[39;49m\u001b[39mself\u001b[39;49m\u001b[39m.\u001b[39;49mencoding,\n\u001b[0;32m    245\u001b[0m     errors\u001b[39m=\u001b[39;49m\u001b[39mself\u001b[39;49m\u001b[39m.\u001b[39;49merrors,\n\u001b[0;32m    246\u001b[0m     compression\u001b[39m=\u001b[39;49m\u001b[39mself\u001b[39;49m\u001b[39m.\u001b[39;49mcompression,\n\u001b[0;32m    247\u001b[0m     storage_options\u001b[39m=\u001b[39;49m\u001b[39mself\u001b[39;49m\u001b[39m.\u001b[39;49mstorage_options,\n\u001b[0;32m    248\u001b[0m ) \u001b[39mas\u001b[39;00m handles:\n\u001b[0;32m    249\u001b[0m \n\u001b[0;32m    250\u001b[0m     \u001b[39m# Note: self.encoding is irrelevant here\u001b[39;00m\n\u001b[0;32m    251\u001b[0m     \u001b[39mself\u001b[39m\u001b[39m.\u001b[39mwriter \u001b[39m=\u001b[39m csvlib\u001b[39m.\u001b[39mwriter(\n\u001b[0;32m    252\u001b[0m         handles\u001b[39m.\u001b[39mhandle,\n\u001b[0;32m    253\u001b[0m         lineterminator\u001b[39m=\u001b[39m\u001b[39mself\u001b[39m\u001b[39m.\u001b[39mline_terminator,\n\u001b[1;32m   (...)\u001b[0m\n\u001b[0;32m    258\u001b[0m         quotechar\u001b[39m=\u001b[39m\u001b[39mself\u001b[39m\u001b[39m.\u001b[39mquotechar,\n\u001b[0;32m    259\u001b[0m     )\n\u001b[0;32m    261\u001b[0m     \u001b[39mself\u001b[39m\u001b[39m.\u001b[39m_save()\n",
      "File \u001b[1;32mc:\\ProgramData\\Anaconda3\\envs\\EP04\\lib\\site-packages\\pandas\\io\\common.py:694\u001b[0m, in \u001b[0;36mget_handle\u001b[1;34m(path_or_buf, mode, encoding, compression, memory_map, is_text, errors, storage_options)\u001b[0m\n\u001b[0;32m    692\u001b[0m \u001b[39m# Only for write methods\u001b[39;00m\n\u001b[0;32m    693\u001b[0m \u001b[39mif\u001b[39;00m \u001b[39m\"\u001b[39m\u001b[39mr\u001b[39m\u001b[39m\"\u001b[39m \u001b[39mnot\u001b[39;00m \u001b[39min\u001b[39;00m mode \u001b[39mand\u001b[39;00m is_path:\n\u001b[1;32m--> 694\u001b[0m     check_parent_directory(\u001b[39mstr\u001b[39;49m(handle))\n\u001b[0;32m    696\u001b[0m \u001b[39mif\u001b[39;00m compression:\n\u001b[0;32m    697\u001b[0m     \u001b[39mif\u001b[39;00m compression \u001b[39m!=\u001b[39m \u001b[39m\"\u001b[39m\u001b[39mzstd\u001b[39m\u001b[39m\"\u001b[39m:\n\u001b[0;32m    698\u001b[0m         \u001b[39m# compression libraries do not like an explicit text-mode\u001b[39;00m\n",
      "File \u001b[1;32mc:\\ProgramData\\Anaconda3\\envs\\EP04\\lib\\site-packages\\pandas\\io\\common.py:568\u001b[0m, in \u001b[0;36mcheck_parent_directory\u001b[1;34m(path)\u001b[0m\n\u001b[0;32m    566\u001b[0m parent \u001b[39m=\u001b[39m Path(path)\u001b[39m.\u001b[39mparent\n\u001b[0;32m    567\u001b[0m \u001b[39mif\u001b[39;00m \u001b[39mnot\u001b[39;00m parent\u001b[39m.\u001b[39mis_dir():\n\u001b[1;32m--> 568\u001b[0m     \u001b[39mraise\u001b[39;00m \u001b[39mOSError\u001b[39;00m(\u001b[39mrf\u001b[39m\u001b[39m\"\u001b[39m\u001b[39mCannot save file into a non-existent directory: \u001b[39m\u001b[39m'\u001b[39m\u001b[39m{\u001b[39;00mparent\u001b[39m}\u001b[39;00m\u001b[39m'\u001b[39m\u001b[39m\"\u001b[39m)\n",
      "\u001b[1;31mOSError\u001b[0m: Cannot save file into a non-existent directory: 'D:DATA\\villami\\Desktop\\Documents\\Python\\Contents\\04_EPPY'"
     ]
    }
   ],
   "source": [
    "import pandas as pd\n",
    "import numpy as np\n",
    "import os\n",
    "\n",
    "url = 'https://raw.githubusercontent.com/grammakov/USA-cities-and-states/master/us_cities_states_counties.csv'\n",
    "\n",
    "loaded = pd.read_csv(url, sep = '|')\n",
    "\n",
    "ruta = os.path.join(\"D:\", \"DATA\", \"villami\", \"Desktop\", \"Documents\", \"Python\", \"Contents\", \"04_EPPY\", \"us_cities_states_counties.csv\")\n",
    "loaded.to_csv(ruta, sep=\"|\")\n",
    "\n",
    "\"\"\"Method using Pandas\"\"\"\n",
    "\n",
    "loaded_pd = pd.DataFrame(loaded)\n",
    "florida_cities = loaded_pd[loaded_pd['State full'] =='Florida'].copy()\n",
    "\n",
    "print(loaded.info())\n",
    "\n",
    "print((loaded.sample(5)))\n",
    "\n",
    "print(florida_cities['City'])\n",
    "\n",
    "\"\"\"Method using no libraries\"\"\"\n",
    "\n",
    "\n"
   ]
  },
  {
   "cell_type": "markdown",
   "id": "controlling-referral",
   "metadata": {},
   "source": [
    "### A2 - 15%\n",
    "- Genera una matriz con valores aleatorios de 0 a 100 de dimensiones 16x16\n",
    "- Calcula los siguentes estadísticos en la matriz anterior, por fila (el resultado de cada uno debe ser un array de dimensiones 16x1)\n",
    "  - Suma de los elementos de cada fila\n",
    "  - Media de los elementos de cada fila\n",
    "  - Valores mínimos de cada fila\n",
    "  - Valores máximos de cada fila"
   ]
  },
  {
   "cell_type": "code",
   "execution_count": null,
   "id": "2c0e48bb",
   "metadata": {},
   "outputs": [],
   "source": [
    "import numpy as np\n",
    "\n",
    "\n",
    "\"\"\"Generation of random matrix\"\"\"\n",
    "rand_matrix = np.random.randint(0, 101, (16,16))\n",
    "\n",
    "print(rand_matrix.sum(1)) \n",
    "print(rand_matrix.mean(1))\n",
    "print(rand_matrix.min(1))\n",
    "print(rand_matrix.max(1))"
   ]
  },
  {
   "cell_type": "markdown",
   "id": "improving-championship",
   "metadata": {},
   "source": [
    "### A3 - 10%\n",
    "- Explica y expón, con un ejemplo propio, el broadcasting de NumPy"
   ]
  },
  {
   "cell_type": "markdown",
   "id": "announced-mortality",
   "metadata": {},
   "source": [
    "### A4 - 10%\n",
    "- Resolución de dos sistemas de ecuaciones\n",
    "    - $ A : \\begin{cases} -9y +  4x = 20 \\\\ -7y + 16x = 80                         \\end{cases}$\n",
    "    \n",
    "    - $ B : \\begin{cases} x - 2y + 3z = 7 \\\\ 2x + y + z = 4 \\\\ -3x + 2y -2z = -10 \\end{cases}$"
   ]
  },
  {
   "cell_type": "code",
   "execution_count": 2,
   "id": "21618531",
   "metadata": {},
   "outputs": [
    {
     "name": "stdout",
     "output_type": "stream",
     "text": [
      "5.0 -0.0\n",
      "2.0 -1.0 1.0\n"
     ]
    }
   ],
   "source": [
    "import numpy.linalg as linalg\n",
    "import numpy as np\n",
    "\n",
    "\"\"\"Solution for the first system of two equations\"\"\"\n",
    "\n",
    "a = np.array([[-9,4],[-7,16]])\n",
    "b = np.array([20,80])\n",
    "\n",
    "y,x = linalg.solve(a,b)\n",
    "print(x,y)\n",
    "\n",
    "\"\"\"Solution for the second system of three equations\"\"\"\n",
    "\n",
    "a = np.array([[1,-2, 3],[2,1,1],[-3,2,-2]])\n",
    "b = np.array([7,4,-10])\n",
    "\n",
    "x,y,z = linalg.solve(a,b)\n",
    "print(x,y,z)\n"
   ]
  },
  {
   "cell_type": "markdown",
   "id": "grave-summer",
   "metadata": {},
   "source": [
    "### A5 - 15%\n",
    "- Crear un DataFrame de dimensiones 10x10, con números aleatorios en el rango `[0,20]`\n",
    "- Reemplazar todos aquellos elementos menores de 5 por NaN\n",
    "- Averiguar cuantos elementos tienen Nan por fila"
   ]
  },
  {
   "cell_type": "code",
   "execution_count": 3,
   "id": "675a8b12",
   "metadata": {},
   "outputs": [
    {
     "name": "stdout",
     "output_type": "stream",
     "text": [
      "      0     1     2     3     4     5     6     7     8     9\n",
      "0  14.0   NaN   5.0   NaN  19.0  19.0   5.0   NaN   NaN   5.0\n",
      "1   6.0   7.0  10.0   7.0  19.0   NaN  13.0   7.0   NaN   NaN\n",
      "2   NaN  19.0   5.0  17.0  18.0   5.0  15.0  15.0   6.0   5.0\n",
      "3   NaN  18.0  15.0  12.0  17.0   NaN   9.0  13.0   7.0   NaN\n",
      "4  20.0   8.0  13.0   NaN   5.0   NaN   NaN   8.0  18.0  18.0\n",
      "5   NaN   NaN  13.0  17.0   9.0   NaN   NaN   8.0   NaN   5.0\n",
      "6  15.0  17.0   7.0   7.0   8.0  18.0   6.0   NaN  14.0   NaN\n",
      "7  11.0   9.0  20.0   NaN  15.0   NaN   NaN   5.0  11.0  16.0\n",
      "8  11.0   NaN  19.0  13.0   5.0  12.0   NaN   NaN  19.0   NaN\n",
      "9   NaN  19.0   NaN   7.0  17.0   9.0  18.0   5.0  17.0   9.0\n",
      "0    4\n",
      "1    3\n",
      "2    1\n",
      "3    3\n",
      "4    3\n",
      "5    5\n",
      "6    2\n",
      "7    3\n",
      "8    4\n",
      "9    2\n",
      "dtype: int64\n"
     ]
    }
   ],
   "source": [
    "import pandas as pd\n",
    "import numpy as np\n",
    "\n",
    "num_rows = 10\n",
    "num_col = 10\n",
    "lowest_num = 0\n",
    "highest_num = 20\n",
    "limit_to_nan = 5\n",
    "\n",
    "matrix = np.random.randint(lowest_num, highest_num+1, (num_rows,num_col))\n",
    "\n",
    "df_matrix = pd.DataFrame(matrix)\n",
    "\n",
    "df_matrix = np.where(df_matrix.values < limit_to_nan, np.nan, df_matrix.values)\n",
    "\n",
    "df_matrix = pd.DataFrame(df_matrix)\n",
    "\n",
    "print(df_matrix)\n",
    "print(num_col - df_matrix.count(axis='columns'))\n"
   ]
  },
  {
   "cell_type": "markdown",
   "id": "acceptable-manner",
   "metadata": {},
   "source": [
    "### A6 - 20%\n",
    "- Se tienen tres datasets, se adjuntan sus datos como diccionarios\n",
    "  - Students, representa un conjunto de alumnos, con sus nombres, edad y sexo\n",
    "  - Subjects, un conjunto de asignaturas, con su nombre y el semestre en que se imparten\n",
    "  - Marks, un conjunto de notas que han obtenido los alumnos en las asignaturas\n",
    "- Obtener la siguiente información usando Pandas\n",
    "  - El nombre del alumno con la mejor nota, y en que asignatura ha sido\n",
    "  - Cuantos alumnos tienen asignaturas suspendidas en el primer semestre\n",
    "  - La media de edad de los asistentes a la asignatura de Python\n",
    "  - Formar una palabra con las iniciales de los nombres de los estudiantes ordenados por edad\n",
    "- Representar graficamente\n",
    "  - Las notas medias de todos los estudiantes por asignatura, agrupando por sexo\n",
    "  - La densidad bivariable de la edad de los estudiantes frente a sus notas, agrupando por sexo (mostrando los datos de dispersion en la zona central, las curvas de densidad en los ejes)"
   ]
  },
  {
   "cell_type": "code",
   "execution_count": null,
   "id": "radio-theory",
   "metadata": {},
   "outputs": [],
   "source": [
    "from itertools import count\n",
    "import numpy as np\n",
    "import pandas as pd\n",
    "\n",
    "students = {'StudentId': [1,2,3,4,5,6], 'Name' : ['Yael','Thomas','Paula','Orlando','Hannah','Nicole'], 'Age' : [22,31,19,44,39,51], 'Sex' : ['M', 'M', 'F', 'M', 'F', 'F']}\n",
    "subjects = {'SubjectId': [1,2,3], 'Name': ['Python', 'Math', 'DeepLearning'], 'Semester': [1, 1, 2]}\n",
    "marks = {'StudentId' : [2,2,1,3,6,4,4,3,2,5], 'SubjectId' : [1,3,1,2,1,2,3,1,2,1], 'Mark': [6,5,8,3,5,2,7,2,4,6]}\n",
    "\n",
    "pd_students = pd.DataFrame(students)\n",
    "pd_subjects = pd.DataFrame(subjects)\n",
    "pd_marks = pd.DataFrame(marks)\n",
    "\n",
    "\"\"\"Procedure 1 to obrain the full DataSet\"\"\"\n",
    "\n",
    "df_subtotal1 = pd_marks.merge(pd_subjects, on=['SubjectId'])\n",
    "df_total1 = pd_students.merge(df_subtotal1, on=['StudentId'])\n",
    "\n",
    "\"\"\"Procedure 2 to obrain the full DataSet\"\"\"\n",
    "\n",
    "df_subtotal2 = pd.merge(pd_marks, pd_subjects, on=['SubjectId'])\n",
    "df_total2 = pd.merge(pd_students, df_subtotal2, on=['StudentId'])\n",
    "\n",
    "\"\"\"Procedure 1 to obtain the Student with the highest Mark\"\"\"\n",
    "\n",
    "print(df_total1.loc[df_total1['Mark'].argmax(),['Name_x','Mark']])\n",
    "\n",
    "\"\"\"Procedure 2 to obtain the Student with the highest Mark\"\"\"\n",
    "\n",
    "print(df_total1[df_total1.Mark == df_total1.Mark.max()])\n",
    "\n",
    "\"\"\"Obtain number of students who have failed in first semester\"\"\"\n",
    "\n",
    "df_students_fail_aux1 = df_total1[df_total1.Semester == 1]\n",
    "\n",
    "df_students_fail = df_students_fail_aux1[df_students_fail_aux1.Mark < 5]\n",
    "\n",
    "print(len(df_students_fail['Name_x'].drop_duplicates()))\n",
    "\n",
    "\"\"\"Mean age of Python students\"\"\"\n",
    "\n",
    "df_students_python_aux1 = df_total1[df_total1.Name_y == 'Python']\n",
    "\n",
    "print(df_students_python_aux1['Age'].mean())\n",
    "\n",
    "\"\"\"Word with names\"\"\"\n",
    "\n",
    "\n",
    "\n",
    "\"\"\"Average marks by subject and gender\"\"\"\n",
    "\n"
   ]
  },
  {
   "cell_type": "markdown",
   "id": "seven-trout",
   "metadata": {},
   "source": [
    "### A7 - 15%\n",
    "- Dadas dos Series de Pandas, implementar una función 'find_not_common' para encontrar los elementos no comunes a ambas Series\n",
    "- Se proveen dos series como referencia, el resultado para este ejemplo debe ser una serie con los elementos [4, 6, 14, 16]"
   ]
  },
  {
   "cell_type": "code",
   "execution_count": null,
   "id": "residential-empty",
   "metadata": {},
   "outputs": [
    {
     "ename": "NameError",
     "evalue": "name 'pd' is not defined",
     "output_type": "error",
     "traceback": [
      "\u001b[1;31m---------------------------------------------------------------------------\u001b[0m",
      "\u001b[1;31mNameError\u001b[0m                                 Traceback (most recent call last)",
      "\u001b[1;32md:\\DATA\\villami\\Desktop\\Documents\\Python\\Contents\\04_EPPY\\04EPPY_Act01.ipynb Cell 10\u001b[0m in \u001b[0;36m<cell line: 1>\u001b[1;34m()\u001b[0m\n\u001b[1;32m----> <a href='vscode-notebook-cell:/d%3A/DATA/villami/Desktop/Documents/Python/Contents/04_EPPY/04EPPY_Act01.ipynb#ch0000009?line=0'>1</a>\u001b[0m p1 \u001b[39m=\u001b[39m pd\u001b[39m.\u001b[39mSeries([\u001b[39m2\u001b[39m, \u001b[39m4\u001b[39m, \u001b[39m12\u001b[39m, \u001b[39m6\u001b[39m, \u001b[39m8\u001b[39m, \u001b[39m10\u001b[39m])\n\u001b[0;32m      <a href='vscode-notebook-cell:/d%3A/DATA/villami/Desktop/Documents/Python/Contents/04_EPPY/04EPPY_Act01.ipynb#ch0000009?line=1'>2</a>\u001b[0m p2 \u001b[39m=\u001b[39m pd\u001b[39m.\u001b[39mSeries([\u001b[39m8\u001b[39m, \u001b[39m10\u001b[39m, \u001b[39m12\u001b[39m, \u001b[39m10\u001b[39m, \u001b[39m14\u001b[39m, \u001b[39m2\u001b[39m, \u001b[39m16\u001b[39m, \u001b[39m10\u001b[39m])\n\u001b[0;32m      <a href='vscode-notebook-cell:/d%3A/DATA/villami/Desktop/Documents/Python/Contents/04_EPPY/04EPPY_Act01.ipynb#ch0000009?line=3'>4</a>\u001b[0m \u001b[39mprint\u001b[39m(find_not_common(p1, p2)\u001b[39m.\u001b[39mequals(pd\u001b[39m.\u001b[39mSeries([\u001b[39m4\u001b[39m, \u001b[39m6\u001b[39m, \u001b[39m14\u001b[39m, \u001b[39m16\u001b[39m])))\n",
      "\u001b[1;31mNameError\u001b[0m: name 'pd' is not defined"
     ]
    }
   ],
   "source": [
    "import pandas as pd\n",
    "\n",
    "p1 = pd.Series([2, 4, 12, 6, 8, 10])\n",
    "p2 = pd.Series([8, 10, 12, 10, 14, 2, 16, 10])\n",
    "\n",
    "\"\"\"Se define la función que pide el enunciado\"\"\"\n",
    "\n",
    "def find_not_common(p1,p2):\n",
    "    p3 = {}\n",
    "    counter = 0\n",
    "    for value_p1 in p1.values: \"\"\"Se mira qué elementos en p1 están en p2\"\"\"\n",
    "        if value_p1 not in p2.values:\n",
    "            p3[counter] = value_p1\n",
    "            counter += 1\n",
    "\n",
    "    for value_p2 in p2.values: \"\"\"Se mira qué elementos en p2 están en p1\"\"\"\n",
    "        if value_p2 not in p1.values:\n",
    "            p3[counter] = value_p2\n",
    "            counter += 1\n",
    "    \n",
    "    p3 = pd.Series(p3)\n",
    "\n",
    "    return p3\n",
    "\n",
    "print(find_not_common(p1, p2).equals(pd.Series([4, 6, 14, 16]))) # Esto deberia imprimir True"
   ]
  }
 ],
 "metadata": {
  "kernelspec": {
   "display_name": "Python 3.10.4 ('EP04')",
   "language": "python",
   "name": "python3"
  },
  "language_info": {
   "codemirror_mode": {
    "name": "ipython",
    "version": 3
   },
   "file_extension": ".py",
   "mimetype": "text/x-python",
   "name": "python",
   "nbconvert_exporter": "python",
   "pygments_lexer": "ipython3",
   "version": "3.10.4"
  },
  "vscode": {
   "interpreter": {
    "hash": "d4de0fc03732841fab00c064d22be2b287e7004b8bf564f89217c6efe03f5a99"
   }
  }
 },
 "nbformat": 4,
 "nbformat_minor": 5
}
